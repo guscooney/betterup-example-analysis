{
 "cells": [
  {
   "cell_type": "code",
   "execution_count": 1,
   "metadata": {},
   "outputs": [],
   "source": [
    "# reload modules automatically\n",
    "%load_ext autoreload\n",
    "%autoreload 2"
   ]
  },
  {
   "cell_type": "code",
   "execution_count": 2,
   "metadata": {},
   "outputs": [],
   "source": [
    "%matplotlib inline\n",
    "from pathlib import Path\n",
    "\n",
    "import matplotlib.pyplot as plt\n",
    "\n",
    "# load any variables defined in the .env file\n",
    "from dotenv import load_dotenv, find_dotenv\n",
    "load_dotenv(find_dotenv());"
   ]
  },
  {
   "cell_type": "code",
   "execution_count": 3,
   "metadata": {},
   "outputs": [],
   "source": [
    "from convio.convio import ConvIO"
   ]
  },
  {
   "cell_type": "markdown",
   "metadata": {},
   "source": [
    "# CRQA - Face happiness between two participants\n",
    "\n",
    "This notebook shows how to get started looking at CRQA\n",
    "\n",
    "This is an example of using the [PyRQA package](https://pypi.org/project/PyRQA/) to analyze recurrence in two time series for separate speakers in our conversations."
   ]
  },
  {
   "cell_type": "code",
   "execution_count": 4,
   "metadata": {},
   "outputs": [],
   "source": [
    "from pyrqa.time_series import TimeSeries\n",
    "from pyrqa.settings import Settings\n",
    "from pyrqa.computing_type import ComputingType\n",
    "from pyrqa.neighbourhood import FixedRadius\n",
    "from pyrqa.metric import EuclideanMetric\n",
    "from pyrqa.computation import RQAComputation\n",
    "from pyrqa.computation import RPComputation\n",
    "from pyrqa.image_generator import ImageGenerator"
   ]
  },
  {
   "cell_type": "markdown",
   "metadata": {},
   "source": [
    "First we'll load the features for each conversation turn and then selected `prob_face_happiness`, which is the probability [0, 1] that our models identifies a particular user's face as happy. We then use `unstack` to move the user_id in the multindex into the columns instead."
   ]
  },
  {
   "cell_type": "code",
   "execution_count": 5,
   "metadata": {},
   "outputs": [],
   "source": [
    "convo = ConvIO(\n",
    "    \"s3://betterup-conv-analysis/processed/59a6e619-7cb7-498e-8f8a-3f609616ca43\",\n",
    ")"
   ]
  },
  {
   "cell_type": "code",
   "execution_count": 18,
   "metadata": {},
   "outputs": [
    {
     "data": {
      "text/html": [
       "<div>\n",
       "<style scoped>\n",
       "    .dataframe tbody tr th:only-of-type {\n",
       "        vertical-align: middle;\n",
       "    }\n",
       "\n",
       "    .dataframe tbody tr th {\n",
       "        vertical-align: top;\n",
       "    }\n",
       "\n",
       "    .dataframe thead th {\n",
       "        text-align: right;\n",
       "    }\n",
       "</style>\n",
       "<table border=\"1\" class=\"dataframe\">\n",
       "  <thead>\n",
       "    <tr style=\"text-align: right;\">\n",
       "      <th></th>\n",
       "      <th>speaker</th>\n",
       "      <th>start</th>\n",
       "      <th>stop</th>\n",
       "      <th>utterance</th>\n",
       "      <th>backchannel</th>\n",
       "      <th>backchannel_count</th>\n",
       "      <th>backchannel_speaker</th>\n",
       "      <th>backchannel_start</th>\n",
       "      <th>backchannel_stop</th>\n",
       "      <th>spacy_doc</th>\n",
       "      <th>pause</th>\n",
       "      <th>delta</th>\n",
       "      <th>questions</th>\n",
       "      <th>end_question</th>\n",
       "      <th>overlap</th>\n",
       "      <th>n_words</th>\n",
       "    </tr>\n",
       "    <tr>\n",
       "      <th>turn_id</th>\n",
       "      <th></th>\n",
       "      <th></th>\n",
       "      <th></th>\n",
       "      <th></th>\n",
       "      <th></th>\n",
       "      <th></th>\n",
       "      <th></th>\n",
       "      <th></th>\n",
       "      <th></th>\n",
       "      <th></th>\n",
       "      <th></th>\n",
       "      <th></th>\n",
       "      <th></th>\n",
       "      <th></th>\n",
       "      <th></th>\n",
       "      <th></th>\n",
       "    </tr>\n",
       "  </thead>\n",
       "  <tbody>\n",
       "    <tr>\n",
       "      <th>0</th>\n",
       "      <td>58431</td>\n",
       "      <td>47.74</td>\n",
       "      <td>48.30</td>\n",
       "      <td>Hi.</td>\n",
       "      <td></td>\n",
       "      <td>0</td>\n",
       "      <td>None</td>\n",
       "      <td>NaN</td>\n",
       "      <td>NaN</td>\n",
       "      <td>(Hi, .)</td>\n",
       "      <td>NaN</td>\n",
       "      <td>0.56</td>\n",
       "      <td>0</td>\n",
       "      <td>False</td>\n",
       "      <td>False</td>\n",
       "      <td>1</td>\n",
       "    </tr>\n",
       "    <tr>\n",
       "      <th>1</th>\n",
       "      <td>49206</td>\n",
       "      <td>48.44</td>\n",
       "      <td>50.85</td>\n",
       "      <td>Hiking, Yuri. Great.</td>\n",
       "      <td>Yeah, Big</td>\n",
       "      <td>1</td>\n",
       "      <td>58431</td>\n",
       "      <td>49.70</td>\n",
       "      <td>50.57</td>\n",
       "      <td>(Hiking, ,, Yuri, ., Great, .)</td>\n",
       "      <td>0.14</td>\n",
       "      <td>2.41</td>\n",
       "      <td>0</td>\n",
       "      <td>False</td>\n",
       "      <td>False</td>\n",
       "      <td>3</td>\n",
       "    </tr>\n",
       "    <tr>\n",
       "      <th>2</th>\n",
       "      <td>58431</td>\n",
       "      <td>50.57</td>\n",
       "      <td>50.97</td>\n",
       "      <td>here.</td>\n",
       "      <td></td>\n",
       "      <td>0</td>\n",
       "      <td>None</td>\n",
       "      <td>NaN</td>\n",
       "      <td>NaN</td>\n",
       "      <td>(here, .)</td>\n",
       "      <td>-0.28</td>\n",
       "      <td>0.40</td>\n",
       "      <td>0</td>\n",
       "      <td>False</td>\n",
       "      <td>True</td>\n",
       "      <td>1</td>\n",
       "    </tr>\n",
       "    <tr>\n",
       "      <th>3</th>\n",
       "      <td>49206</td>\n",
       "      <td>51.34</td>\n",
       "      <td>60.85</td>\n",
       "      <td>Okay. Hi. So I guess you could start a convers...</td>\n",
       "      <td></td>\n",
       "      <td>0</td>\n",
       "      <td>None</td>\n",
       "      <td>NaN</td>\n",
       "      <td>NaN</td>\n",
       "      <td>(Okay, ., Hi, ., So, I, guess, you, could, sta...</td>\n",
       "      <td>0.37</td>\n",
       "      <td>9.51</td>\n",
       "      <td>0</td>\n",
       "      <td>False</td>\n",
       "      <td>False</td>\n",
       "      <td>19</td>\n",
       "    </tr>\n",
       "    <tr>\n",
       "      <th>4</th>\n",
       "      <td>58431</td>\n",
       "      <td>61.54</td>\n",
       "      <td>63.13</td>\n",
       "      <td>Yeah, I am Naveen</td>\n",
       "      <td></td>\n",
       "      <td>0</td>\n",
       "      <td>None</td>\n",
       "      <td>NaN</td>\n",
       "      <td>NaN</td>\n",
       "      <td>(Yeah, ,, I, am, Naveen)</td>\n",
       "      <td>0.69</td>\n",
       "      <td>1.59</td>\n",
       "      <td>0</td>\n",
       "      <td>False</td>\n",
       "      <td>False</td>\n",
       "      <td>4</td>\n",
       "    </tr>\n",
       "    <tr>\n",
       "      <th>...</th>\n",
       "      <td>...</td>\n",
       "      <td>...</td>\n",
       "      <td>...</td>\n",
       "      <td>...</td>\n",
       "      <td>...</td>\n",
       "      <td>...</td>\n",
       "      <td>...</td>\n",
       "      <td>...</td>\n",
       "      <td>...</td>\n",
       "      <td>...</td>\n",
       "      <td>...</td>\n",
       "      <td>...</td>\n",
       "      <td>...</td>\n",
       "      <td>...</td>\n",
       "      <td>...</td>\n",
       "      <td>...</td>\n",
       "    </tr>\n",
       "    <tr>\n",
       "      <th>282</th>\n",
       "      <td>58431</td>\n",
       "      <td>1823.04</td>\n",
       "      <td>1828.58</td>\n",
       "      <td>named. So Yeah, he's talking</td>\n",
       "      <td></td>\n",
       "      <td>0</td>\n",
       "      <td>None</td>\n",
       "      <td>NaN</td>\n",
       "      <td>NaN</td>\n",
       "      <td>(named, ., So, Yeah, ,, he, 's, talking)</td>\n",
       "      <td>-4.23</td>\n",
       "      <td>5.54</td>\n",
       "      <td>0</td>\n",
       "      <td>False</td>\n",
       "      <td>True</td>\n",
       "      <td>6</td>\n",
       "    </tr>\n",
       "    <tr>\n",
       "      <th>283</th>\n",
       "      <td>49206</td>\n",
       "      <td>1828.44</td>\n",
       "      <td>1828.74</td>\n",
       "      <td>I have no</td>\n",
       "      <td></td>\n",
       "      <td>0</td>\n",
       "      <td>None</td>\n",
       "      <td>NaN</td>\n",
       "      <td>NaN</td>\n",
       "      <td>(I, have, no)</td>\n",
       "      <td>-0.14</td>\n",
       "      <td>0.30</td>\n",
       "      <td>0</td>\n",
       "      <td>False</td>\n",
       "      <td>False</td>\n",
       "      <td>3</td>\n",
       "    </tr>\n",
       "    <tr>\n",
       "      <th>284</th>\n",
       "      <td>58431</td>\n",
       "      <td>1828.59</td>\n",
       "      <td>1828.95</td>\n",
       "      <td>to you.</td>\n",
       "      <td></td>\n",
       "      <td>0</td>\n",
       "      <td>None</td>\n",
       "      <td>NaN</td>\n",
       "      <td>NaN</td>\n",
       "      <td>(to, you, .)</td>\n",
       "      <td>-0.15</td>\n",
       "      <td>0.36</td>\n",
       "      <td>0</td>\n",
       "      <td>False</td>\n",
       "      <td>False</td>\n",
       "      <td>2</td>\n",
       "    </tr>\n",
       "    <tr>\n",
       "      <th>285</th>\n",
       "      <td>49206</td>\n",
       "      <td>1828.74</td>\n",
       "      <td>1830.60</td>\n",
       "      <td>idea how to close this. Well, this is close it,</td>\n",
       "      <td>Um,</td>\n",
       "      <td>1</td>\n",
       "      <td>58431</td>\n",
       "      <td>1829.92</td>\n",
       "      <td>1830.55</td>\n",
       "      <td>(idea, how, to, close, this, ., Well, ,, this,...</td>\n",
       "      <td>-0.21</td>\n",
       "      <td>1.86</td>\n",
       "      <td>0</td>\n",
       "      <td>False</td>\n",
       "      <td>True</td>\n",
       "      <td>10</td>\n",
       "    </tr>\n",
       "    <tr>\n",
       "      <th>286</th>\n",
       "      <td>58431</td>\n",
       "      <td>1831.50</td>\n",
       "      <td>1832.05</td>\n",
       "      <td>you know.</td>\n",
       "      <td></td>\n",
       "      <td>1</td>\n",
       "      <td>NaN</td>\n",
       "      <td>NaN</td>\n",
       "      <td>NaN</td>\n",
       "      <td>(you, know, .)</td>\n",
       "      <td>0.90</td>\n",
       "      <td>0.55</td>\n",
       "      <td>0</td>\n",
       "      <td>False</td>\n",
       "      <td>False</td>\n",
       "      <td>2</td>\n",
       "    </tr>\n",
       "  </tbody>\n",
       "</table>\n",
       "<p>287 rows × 16 columns</p>\n",
       "</div>"
      ],
      "text/plain": [
       "        speaker    start     stop  \\\n",
       "turn_id                             \n",
       "0         58431    47.74    48.30   \n",
       "1         49206    48.44    50.85   \n",
       "2         58431    50.57    50.97   \n",
       "3         49206    51.34    60.85   \n",
       "4         58431    61.54    63.13   \n",
       "...         ...      ...      ...   \n",
       "282       58431  1823.04  1828.58   \n",
       "283       49206  1828.44  1828.74   \n",
       "284       58431  1828.59  1828.95   \n",
       "285       49206  1828.74  1830.60   \n",
       "286       58431  1831.50  1832.05   \n",
       "\n",
       "                                                 utterance backchannel  \\\n",
       "turn_id                                                                  \n",
       "0                                                      Hi.               \n",
       "1                                     Hiking, Yuri. Great.   Yeah, Big   \n",
       "2                                                    here.               \n",
       "3        Okay. Hi. So I guess you could start a convers...               \n",
       "4                                        Yeah, I am Naveen               \n",
       "...                                                    ...         ...   \n",
       "282                           named. So Yeah, he's talking               \n",
       "283                                              I have no               \n",
       "284                                                to you.               \n",
       "285        idea how to close this. Well, this is close it,         Um,   \n",
       "286                                              you know.               \n",
       "\n",
       "         backchannel_count backchannel_speaker  backchannel_start  \\\n",
       "turn_id                                                             \n",
       "0                        0                None                NaN   \n",
       "1                        1               58431              49.70   \n",
       "2                        0                None                NaN   \n",
       "3                        0                None                NaN   \n",
       "4                        0                None                NaN   \n",
       "...                    ...                 ...                ...   \n",
       "282                      0                None                NaN   \n",
       "283                      0                None                NaN   \n",
       "284                      0                None                NaN   \n",
       "285                      1               58431            1829.92   \n",
       "286                      1                 NaN                NaN   \n",
       "\n",
       "         backchannel_stop                                          spacy_doc  \\\n",
       "turn_id                                                                        \n",
       "0                     NaN                                            (Hi, .)   \n",
       "1                   50.57                     (Hiking, ,, Yuri, ., Great, .)   \n",
       "2                     NaN                                          (here, .)   \n",
       "3                     NaN  (Okay, ., Hi, ., So, I, guess, you, could, sta...   \n",
       "4                     NaN                           (Yeah, ,, I, am, Naveen)   \n",
       "...                   ...                                                ...   \n",
       "282                   NaN           (named, ., So, Yeah, ,, he, 's, talking)   \n",
       "283                   NaN                                      (I, have, no)   \n",
       "284                   NaN                                       (to, you, .)   \n",
       "285               1830.55  (idea, how, to, close, this, ., Well, ,, this,...   \n",
       "286                   NaN                                     (you, know, .)   \n",
       "\n",
       "         pause  delta  questions  end_question  overlap  n_words  \n",
       "turn_id                                                           \n",
       "0          NaN   0.56          0         False    False        1  \n",
       "1         0.14   2.41          0         False    False        3  \n",
       "2        -0.28   0.40          0         False     True        1  \n",
       "3         0.37   9.51          0         False    False       19  \n",
       "4         0.69   1.59          0         False    False        4  \n",
       "...        ...    ...        ...           ...      ...      ...  \n",
       "282      -4.23   5.54          0         False     True        6  \n",
       "283      -0.14   0.30          0         False    False        3  \n",
       "284      -0.15   0.36          0         False    False        2  \n",
       "285      -0.21   1.86          0         False     True       10  \n",
       "286       0.90   0.55          0         False    False        2  \n",
       "\n",
       "[287 rows x 16 columns]"
      ]
     },
     "execution_count": 18,
     "metadata": {},
     "output_type": "execute_result"
    }
   ],
   "source": [
    "convo.transcript_df"
   ]
  },
  {
   "cell_type": "code",
   "execution_count": 6,
   "metadata": {},
   "outputs": [
    {
     "data": {
      "text/html": [
       "<div>\n",
       "<style scoped>\n",
       "    .dataframe tbody tr th:only-of-type {\n",
       "        vertical-align: middle;\n",
       "    }\n",
       "\n",
       "    .dataframe tbody tr th {\n",
       "        vertical-align: top;\n",
       "    }\n",
       "\n",
       "    .dataframe thead th {\n",
       "        text-align: right;\n",
       "    }\n",
       "</style>\n",
       "<table border=\"1\" class=\"dataframe\">\n",
       "  <thead>\n",
       "    <tr style=\"text-align: right;\">\n",
       "      <th>user_id</th>\n",
       "      <th>49206</th>\n",
       "      <th>58431</th>\n",
       "    </tr>\n",
       "    <tr>\n",
       "      <th>turn_ix</th>\n",
       "      <th></th>\n",
       "      <th></th>\n",
       "    </tr>\n",
       "  </thead>\n",
       "  <tbody>\n",
       "    <tr>\n",
       "      <th>-1.0</th>\n",
       "      <td>0.189620</td>\n",
       "      <td>NaN</td>\n",
       "    </tr>\n",
       "    <tr>\n",
       "      <th>0.0</th>\n",
       "      <td>0.701857</td>\n",
       "      <td>NaN</td>\n",
       "    </tr>\n",
       "    <tr>\n",
       "      <th>1.0</th>\n",
       "      <td>0.805301</td>\n",
       "      <td>NaN</td>\n",
       "    </tr>\n",
       "    <tr>\n",
       "      <th>2.0</th>\n",
       "      <td>0.531885</td>\n",
       "      <td>NaN</td>\n",
       "    </tr>\n",
       "    <tr>\n",
       "      <th>3.0</th>\n",
       "      <td>0.549451</td>\n",
       "      <td>NaN</td>\n",
       "    </tr>\n",
       "    <tr>\n",
       "      <th>...</th>\n",
       "      <td>...</td>\n",
       "      <td>...</td>\n",
       "    </tr>\n",
       "    <tr>\n",
       "      <th>278.0</th>\n",
       "      <td>0.538105</td>\n",
       "      <td>0.099954</td>\n",
       "    </tr>\n",
       "    <tr>\n",
       "      <th>280.0</th>\n",
       "      <td>0.879157</td>\n",
       "      <td>0.009078</td>\n",
       "    </tr>\n",
       "    <tr>\n",
       "      <th>282.0</th>\n",
       "      <td>0.671960</td>\n",
       "      <td>0.086958</td>\n",
       "    </tr>\n",
       "    <tr>\n",
       "      <th>283.0</th>\n",
       "      <td>0.686995</td>\n",
       "      <td>0.038642</td>\n",
       "    </tr>\n",
       "    <tr>\n",
       "      <th>286.0</th>\n",
       "      <td>0.578370</td>\n",
       "      <td>0.089961</td>\n",
       "    </tr>\n",
       "  </tbody>\n",
       "</table>\n",
       "<p>219 rows × 2 columns</p>\n",
       "</div>"
      ],
      "text/plain": [
       "user_id     49206     58431\n",
       "turn_ix                    \n",
       "-1.0     0.189620       NaN\n",
       " 0.0     0.701857       NaN\n",
       " 1.0     0.805301       NaN\n",
       " 2.0     0.531885       NaN\n",
       " 3.0     0.549451       NaN\n",
       "...           ...       ...\n",
       " 278.0   0.538105  0.099954\n",
       " 280.0   0.879157  0.009078\n",
       " 282.0   0.671960  0.086958\n",
       " 283.0   0.686995  0.038642\n",
       " 286.0   0.578370  0.089961\n",
       "\n",
       "[219 rows x 2 columns]"
      ]
     },
     "execution_count": 6,
     "metadata": {},
     "output_type": "execute_result"
    }
   ],
   "source": [
    "df = convo.feature_df_turns\n",
    "df['prob_face_happiness'].unstack()"
   ]
  },
  {
   "cell_type": "markdown",
   "metadata": {},
   "source": [
    "We set up the \n",
    "\n",
    "In some work, we saw that people would optimize the hyperparameters to the maximum recurrence rate. It's not immediately clear that approaching the problem with different parameters for different conversations would lead to more "
   ]
  },
  {
   "cell_type": "code",
   "execution_count": 7,
   "metadata": {},
   "outputs": [
    {
     "name": "stdout",
     "output_type": "stream",
     "text": [
      "CRQA Result:\n",
      "============\n",
      "\n",
      "Minimum diagonal line length (L_min): 2\n",
      "Minimum vertical line length (V_min): 2\n",
      "Minimum white vertical line length (W_min): 2\n",
      "\n",
      "Recurrence rate (RR): 0.136253\n",
      "Determinism (DET): 0.265898\n",
      "Average diagonal line length (L): 2.653188\n",
      "Longest diagonal line length (L_max): 7\n",
      "Divergence (DIV): 0.142857\n",
      "Entropy diagonal lines (L_entr): 1.075395\n",
      "Laminarity (LAM): 0.748286\n",
      "Trapping time (TT): 4.908998\n",
      "Longest vertical line length (V_max): 22\n",
      "Entropy vertical lines (V_entr): 2.048870\n",
      "Average white vertical line length (W): 20.503345\n",
      "Longest white vertical line length (W_max): 217\n",
      "Longest white vertical line length inverse (W_div): 0.004608\n",
      "Entropy white vertical lines (W_entr): 3.442258\n",
      "\n",
      "Ratio determinism / recurrence rate (DET/RR): 1.951506\n",
      "Ratio laminarity / determinism (LAM/DET): 2.814185\n",
      "\n"
     ]
    }
   ],
   "source": [
    "def calculate_recurrence(data, column_name, normalize=True, fillna=True):\n",
    "    data_x = data[column_name].unstack().iloc[:, 0]\n",
    "    data_y = data[column_name].unstack().iloc[:, 1]\n",
    "    \n",
    "    if normalize:\n",
    "        data_x = (data_x - data_x.mean()) / data_x.std()\n",
    "        data_y = (data_y - data_y.mean()) / data_y.std()\n",
    "\n",
    "    if fillna:\n",
    "        data_x.fillna(data_x.mean())\n",
    "        data_y.fillna(data_y.mean())\n",
    "        \n",
    "    time_series_x = TimeSeries(data_x,\n",
    "                               embedding_dimension=2,\n",
    "                               time_delay=2)\n",
    "\n",
    "    time_series_y = TimeSeries(data_y,\n",
    "                               embedding_dimension=2,\n",
    "                               time_delay=2)\n",
    "\n",
    "    time_series = (time_series_x,\n",
    "                   time_series_y)\n",
    "\n",
    "    settings = Settings(\n",
    "        time_series,\n",
    "        computing_type=ComputingType.Cross,\n",
    "        neighbourhood=FixedRadius(0.75),\n",
    "        similarity_measure=EuclideanMetric,\n",
    "        theiler_corrector=0\n",
    "    )\n",
    "\n",
    "    computation = RQAComputation.create(settings)\n",
    "    result = computation.run()\n",
    "\n",
    "    return result, settings\n",
    "\n",
    "res, settings = calculate_recurrence(df, \"prob_face_happiness\")\n",
    "print(res)"
   ]
  },
  {
   "cell_type": "markdown",
   "metadata": {},
   "source": [
    "Here are some additional resources on recurrence plots and CRQA:\n",
    "\n",
    "- [Backgound information on interpreting recurrence plots](http://www.recurrence-plot.tk/glance.php)\n",
    "- [Example CRQA analysis](https://www.frontiersin.org/articles/10.3389/fpsyg.2018.02232/full#B9)"
   ]
  },
  {
   "cell_type": "code",
   "execution_count": 8,
   "metadata": {},
   "outputs": [
    {
     "data": {
      "image/png": "[encoded data removed]",
      "text/plain": [
       "<Figure size 720x720 with 1 Axes>"
      ]
     },
     "metadata": {
      "needs_background": "light"
     },
     "output_type": "display_data"
    }
   ],
   "source": [
    "from pyrqa.computation import RPComputation\n",
    "from pyrqa.image_generator import ImageGenerator\n",
    "\n",
    "computation = RPComputation.create(settings)\n",
    "result = computation.run()\n",
    "\n",
    "img = ImageGenerator.generate_recurrence_plot(result.recurrence_matrix_reverse)\n",
    "\n",
    "plt.imshow(img)\n",
    "fig = plt.gcf()\n",
    "fig.set_size_inches((10, 10))"
   ]
  },
  {
   "cell_type": "markdown",
   "metadata": {},
   "source": [
    "## Calculating recurrence rate across multiple conversations"
   ]
  },
  {
   "cell_type": "code",
   "execution_count": 9,
   "metadata": {},
   "outputs": [
    {
     "name": "stderr",
     "output_type": "stream",
     "text": [
      "  0%|          | 0/144 [00:00<?, ?it/s]2020-02-11 09:13:15 what-about-thems.local convio.convio[61082] WARNING Skipping directory that did not validate: s3://betterup-conv-analysis/processed\n",
      "  1%|▏         | 2/144 [00:02<02:58,  1.26s/it]2020-02-11 09:13:19 what-about-thems.local convio.convio[61082] WARNING Skipping directory that did not validate: s3://betterup-conv-analysis/processed/01849238-f5f0-487e-bca4-7b4fe0c9625c\n",
      " 10%|▉         | 14/144 [00:20<03:04,  1.42s/it]2020-02-11 09:13:37 what-about-thems.local convio.convio[61082] WARNING Skipping directory that did not validate: s3://betterup-conv-analysis/processed/2640fc6c-7c92-4ab2-be2b-8f3a2f0bda40\n",
      " 12%|█▏        | 17/144 [00:25<03:10,  1.50s/it]2020-02-11 09:13:42 what-about-thems.local convio.convio[61082] WARNING Skipping directory that did not validate: s3://betterup-conv-analysis/processed/2a4d7a05-b514-4927-a797-3644b4046f43\n",
      " 38%|███▊      | 55/144 [01:24<02:09,  1.45s/it]2020-02-11 09:14:41 what-about-thems.local convio.convio[61082] WARNING Skipping directory that did not validate: s3://betterup-conv-analysis/processed/588c5b4b-5e92-426c-8acc-686628a7342f\n",
      " 66%|██████▌   | 95/144 [02:26<01:10,  1.44s/it]2020-02-11 09:15:43 what-about-thems.local convio.convio[61082] WARNING Skipping directory that did not validate: s3://betterup-conv-analysis/processed/9ba4943d-dcdb-4fea-b173-b5b423d91957\n",
      " 76%|███████▌  | 109/144 [02:47<00:53,  1.52s/it]2020-02-11 09:16:04 what-about-thems.local convio.convio[61082] WARNING Skipping directory that did not validate: s3://betterup-conv-analysis/processed/b5134acd-875e-4826-9ab8-42d9b49c8530\n",
      " 79%|███████▉  | 114/144 [02:59<01:08,  2.28s/it]2020-02-11 09:16:16 what-about-thems.local convio.convio[61082] WARNING Skipping directory that did not validate: s3://betterup-conv-analysis/processed/ba5d5bba-8477-43ff-b0e0-d025d66c56bc\n",
      "100%|██████████| 144/144 [03:52<00:00,  1.62s/it]\n"
     ]
    }
   ],
   "source": [
    "convo_list = ConvIO.load_conversations(\n",
    "   's3://betterup-conv-analysis/processed/',\n",
    ")"
   ]
  },
  {
   "cell_type": "code",
   "execution_count": 10,
   "metadata": {
    "scrolled": false
   },
   "outputs": [
    {
     "name": "stderr",
     "output_type": "stream",
     "text": [
      " 12%|█▎        | 17/136 [02:13<13:05,  6.60s/it]/Users/bull/code/betterup-convo-pipeline/convio/convio.py:807: FutureWarning: Sorting because non-concatenation axis is not aligned. A future version\n",
      "of pandas will change to not sort by default.\n",
      "\n",
      "To accept the future behavior, pass 'sort=False'.\n",
      "\n",
      "To retain the current behavior and silence the warning, pass 'sort=True'.\n",
      "\n",
      "  return pd.concat(audio_dfs).reset_index().set_index([\"timedelta\", \"user_id\"])\n",
      "100%|██████████| 136/136 [17:24<00:00,  7.68s/it]"
     ]
    },
    {
     "name": "stdout",
     "output_type": "stream",
     "text": [
      "CPU times: user 6min 30s, sys: 6.99 s, total: 6min 37s\n",
      "Wall time: 17min 24s\n"
     ]
    },
    {
     "name": "stderr",
     "output_type": "stream",
     "text": [
      "\n",
      "/Users/bull/code/betterup-convo-pipeline/convio/convio.py:641: FutureWarning: Sorting because non-concatenation axis is not aligned. A future version\n",
      "of pandas will change to not sort by default.\n",
      "\n",
      "To accept the future behavior, pass 'sort=False'.\n",
      "\n",
      "To retain the current behavior and silence the warning, pass 'sort=True'.\n",
      "\n",
      "  return pd.concat(dfs, keys=ids, names=[\"conversation_id\"])\n"
     ]
    }
   ],
   "source": [
    "%%time\n",
    "\n",
    "# load the `feature_df_time` property for all convos, and join them\n",
    "all_features = ConvIO.join_convo_dfs(convo_list, 'feature_df_turns')"
   ]
  },
  {
   "cell_type": "code",
   "execution_count": 12,
   "metadata": {},
   "outputs": [
    {
     "data": {
      "text/plain": [
       "conversation_id\n",
       "b3878b24-e319-48a2-9a0c-813f9c5e0336    0.002501\n",
       "77604c00-f69b-48ad-9923-03c26872f1c9    0.004518\n",
       "45076db4-cf24-4c3d-81ba-0bd5e3d7d110    0.022141\n",
       "2fead516-9c8a-47be-a7d1-197091154cd1    0.028106\n",
       "deea9e23-92e1-4d88-b230-dd94ba04b8f0    0.028294\n",
       "                                          ...   \n",
       "4717ed52-4beb-4f68-87fd-f4df224205e8    0.282563\n",
       "e8a65cda-55e5-47d2-b895-1e0ac20eba80    0.285312\n",
       "a49bf61e-af9f-437d-9864-27910582b86d    0.298396\n",
       "6254ff23-b19b-4bc5-860d-7d9dca3c6132    0.302629\n",
       "7193181e-85e5-4c31-96f7-d4f38c312f71    0.320173\n",
       "Length: 136, dtype: float64"
      ]
     },
     "execution_count": 12,
     "metadata": {},
     "output_type": "execute_result"
    }
   ],
   "source": [
    "# apply the recurrence calculation to every conversation\n",
    "all_features.groupby('conversation_id').apply(\n",
    "    lambda x: calculate_recurrence(x, \"prob_face_happiness\")[0].recurrence_rate\n",
    ").sort_values()"
   ]
  },
  {
   "cell_type": "code",
   "execution_count": 13,
   "metadata": {},
   "outputs": [
    {
     "data": {
      "text/plain": [
       "<matplotlib.axes._subplots.AxesSubplot at 0x7fb818455b80>"
      ]
     },
     "execution_count": 13,
     "metadata": {},
     "output_type": "execute_result"
    },
    {
     "data": {
      "image/png": "[encoded data removed]",
      "text/plain": [
       "<Figure size 432x288 with 1 Axes>"
      ]
     },
     "metadata": {
      "needs_background": "light"
     },
     "output_type": "display_data"
    }
   ],
   "source": [
    "least_recurr_features = (\n",
    "    all_features[\n",
    "        all_features.index.get_level_values('conversation_id') == \\\n",
    "        'b3878b24-e319-48a2-9a0c-813f9c5e0336'\n",
    "    ]\n",
    ")\n",
    "\n",
    "least_recurr_features.prob_face_happiness.unstack().droplevel(0).plot()\n"
   ]
  },
  {
   "cell_type": "code",
   "execution_count": 14,
   "metadata": {},
   "outputs": [
    {
     "data": {
      "text/html": [
       "<video src=\"tmp/video_widget/b3878b24-e319-48a2-9a0c-813f9c5e0336.mp4\" controls  width=\"600\" >\n",
       "      Your browser does not support the <code>video</code> element.\n",
       "    </video>"
      ],
      "text/plain": [
       "<IPython.core.display.Video object>"
      ]
     },
     "execution_count": 14,
     "metadata": {},
     "output_type": "execute_result"
    }
   ],
   "source": [
    "least_recurr = ConvIO(\n",
    "    's3://betterup-conv-analysis/processed/b3878b24-e319-48a2-9a0c-813f9c5e0336'\n",
    ")\n",
    "\n",
    "least_recurr.video_widget"
   ]
  },
  {
   "cell_type": "markdown",
   "metadata": {},
   "source": [
    "This seems to be an outlier where the lighting, skin tone, and position of the speaker on the left mean that we don't have a good view of her face. Because of this we have very few observations, so very little cross-recurrence. "
   ]
  },
  {
   "cell_type": "code",
   "execution_count": 16,
   "metadata": {},
   "outputs": [
    {
     "data": {
      "text/plain": [
       "<matplotlib.axes._subplots.AxesSubplot at 0x7fb7a87abfa0>"
      ]
     },
     "execution_count": 16,
     "metadata": {},
     "output_type": "execute_result"
    },
    {
     "data": {
      "image/png": "[encoded data removed]",
      "text/plain": [
       "<Figure size 432x288 with 1 Axes>"
      ]
     },
     "metadata": {
      "needs_background": "light"
     },
     "output_type": "display_data"
    }
   ],
   "source": [
    "most_recurr_features = (\n",
    "    all_features[\n",
    "        all_features.index.get_level_values('conversation_id') == \\\n",
    "        '7193181e-85e5-4c31-96f7-d4f38c312f71'\n",
    "    ]\n",
    ")\n",
    "\n",
    "most_recurr_features.prob_face_happiness.unstack().droplevel(0).plot()\n"
   ]
  },
  {
   "cell_type": "code",
   "execution_count": 17,
   "metadata": {},
   "outputs": [
    {
     "data": {
      "text/html": [
       "<video src=\"tmp/video_widget/7193181e-85e5-4c31-96f7-d4f38c312f71.mp4\" controls  width=\"600\" >\n",
       "      Your browser does not support the <code>video</code> element.\n",
       "    </video>"
      ],
      "text/plain": [
       "<IPython.core.display.Video object>"
      ]
     },
     "execution_count": 17,
     "metadata": {},
     "output_type": "execute_result"
    }
   ],
   "source": [
    "most_recurr = ConvIO(\n",
    "    's3://betterup-conv-analysis/processed/7193181e-85e5-4c31-96f7-d4f38c312f71'\n",
    ")\n",
    "\n",
    "most_recurr.video_widget"
   ]
  },
  {
   "cell_type": "code",
   "execution_count": null,
   "metadata": {},
   "outputs": [],
   "source": []
  }
 ],
 "metadata": {
  "kernelspec": {
   "display_name": "Python 3",
   "language": "python",
   "name": "python3"
  },
  "language_info": {
   "codemirror_mode": {
    "name": "ipython",
    "version": 3
   },
   "file_extension": ".py",
   "mimetype": "text/x-python",
   "name": "python",
   "nbconvert_exporter": "python",
   "pygments_lexer": "ipython3",
   "version": "3.8.1"
  }
 },
 "nbformat": 4,
 "nbformat_minor": 4
}
